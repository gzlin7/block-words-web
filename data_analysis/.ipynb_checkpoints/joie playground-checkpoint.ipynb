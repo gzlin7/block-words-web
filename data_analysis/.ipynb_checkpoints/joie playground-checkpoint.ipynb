{
 "cells": [
  {
   "cell_type": "code",
   "execution_count": 1,
   "metadata": {},
   "outputs": [],
   "source": [
    "import json\n",
    "import pandas as pd\n",
    "import numpy as np\n",
    "import matplotlib\n",
    "import matplotlib.pyplot as plt\n",
    "import seaborn as sns"
   ]
  },
  {
   "cell_type": "code",
   "execution_count": null,
   "metadata": {},
   "outputs": [],
   "source": [
    "def plot_probs(exp):\n",
    "    c,p = exp.split(\"_\")\n",
    "    filename = \"scenario-\" + str(c) + \"-\" + str(p) + \".csv\"\n",
    "    sips_mean_array= generate_sips_mean_array(filename)\n",
    "\n",
    "    fig, axs = plt.subplots(2, 1, figsize=[25,8])\n",
    "    huma_data = predictions_dict_cleaned[exp]\n",
    "    mean_array = np.array([0,0,0,0,0])\n",
    "    std_array = np.array([0,0,0,0,0])\n",
    "    for step, data in huma_data.items(): \n",
    "        goals_probs = pd.DataFrame.from_dict(data, orient='columns', dtype=None, columns=None)\n",
    "        goals_probs = goals_probs[['goal_probs_0', 'goal_probs_1', 'goal_probs_2', 'goal_probs_3', 'goal_probs_4']].values\n",
    "        mean = np.mean(goals_probs, axis=0)\n",
    "        std = np.std(goals_probs, axis=0)\n",
    "        mean_array = np.vstack([mean_array, mean])\n",
    "        std_array = np.vstack([std_array, std])\n",
    "    mean_array = mean_array[1:]\n",
    "    std_array = std_array[1:]\n",
    "    for i in range(mean_array.shape[1]): \n",
    "        axs[0].plot(range(1, mean_array.shape[0]*2+1,2), mean_array[:,i], color=goal_colors[i], linewidth=4)\n",
    "        axs[0].scatter(range(1, mean_array.shape[0]*2+1,2), mean_array[:,i], color=goal_colors[i])\n",
    "        axs[0].fill_between(range(1, mean_array.shape[0]*2+1,2), mean_array[:,i] - std_array[:,i], mean_array[:,i] + std_array[:,i], color=goal_colors[i], alpha=0.2)\n",
    "    title = exp.split(\"_\")\n",
    "    axs[0].set_title(\"{0} Scenario {1} - human results\".format(categories[int(title[0])], title[1]))\n",
    "    axs[0].grid(color='gray', linestyle='-', linewidth=0.5, alpha=0.2)\n",
    "    axs[0].set_ylim([-0.01,1.01])\n",
    "    axs[0].set_xlim([1,sips_mean_array.shape[0]])\n",
    "    axs[0].legend(format_legend(exp), loc = 'upper left', fancybox=True, framealpha=0, fontsize=14)\n",
    "    for i in range(sips_mean_array.shape[1]): \n",
    "        axs[1].plot(range(1, sips_mean_array.shape[0]+1), sips_mean_array[:,i], color=goal_colors[i], linewidth=4)\n",
    "        axs[1].scatter(range(1, sips_mean_array.shape[0]+1), sips_mean_array[:,i], color=goal_colors[i])\n",
    "    title = exp.split(\"_\")\n",
    "    axs[1].set_title(\"{0} Scenario {1} - SIPS results\".format(categories[int(title[0])], title[1]))\n",
    "    axs[1].grid(color='gray', linestyle='-', linewidth=0.5, alpha=0.2)\n",
    "    axs[1].set_ylim([-0.01,1.01])\n",
    "    axs[1].set_xlim([1,sips_mean_array.shape[0]])\n",
    "    fig.savefig('plots/sips/prob_traj_{}.png'.format(exp), dpi=400)\n",
    "    for ax in axs.flat:\n",
    "        ax.label_outer()"
   ]
  }
 ],
 "metadata": {
  "kernelspec": {
   "display_name": "Python 3",
   "language": "python",
   "name": "python3"
  },
  "language_info": {
   "codemirror_mode": {
    "name": "ipython",
    "version": 3
   },
   "file_extension": ".py",
   "mimetype": "text/x-python",
   "name": "python",
   "nbconvert_exporter": "python",
   "pygments_lexer": "ipython3",
   "version": "3.8.2"
  }
 },
 "nbformat": 4,
 "nbformat_minor": 4
}
